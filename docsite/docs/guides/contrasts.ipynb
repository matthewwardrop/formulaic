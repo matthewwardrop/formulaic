{
 "cells": [
  {
   "attachments": {},
   "cell_type": "markdown",
   "metadata": {
    "slideshow": {
     "slide_type": "skip"
    }
   },
   "source": [
    "Categorical data (sometimes called factor data) is encoded in model matrices\n",
    "using \"contrast codings\" that transform categorical vectors into a collection of\n",
    "numerical vectors suitable for use in regression models. In this guide we will\n",
    "introduce the concepts behind contrast codings, how to use them with Formulaic,\n",
    "and (for more advanced readers) describe how we can guarantee structural\n",
    "full-rankness of formulae with complex interactions between categorical and\n",
    "other features."
   ]
  },
  {
   "attachments": {},
   "cell_type": "markdown",
   "metadata": {},
   "source": [
    "## Basic usage\n",
    "\n",
    "Formulaic follows in the stead of R and Patsy by automatically inferring from \n",
    "the data whether a feature needs to categorically encoded. For example:"
   ]
  },
  {
   "cell_type": "code",
   "execution_count": 80,
   "metadata": {},
   "outputs": [
    {
     "data": {
      "text/html": [
       "<div>\n",
       "<style scoped>\n",
       "    .dataframe tbody tr th:only-of-type {\n",
       "        vertical-align: middle;\n",
       "    }\n",
       "\n",
       "    .dataframe tbody tr th {\n",
       "        vertical-align: top;\n",
       "    }\n",
       "\n",
       "    .dataframe thead th {\n",
       "        text-align: right;\n",
       "    }\n",
       "</style>\n",
       "<table border=\"1\" class=\"dataframe\">\n",
       "  <thead>\n",
       "    <tr style=\"text-align: right;\">\n",
       "      <th></th>\n",
       "      <th>Intercept</th>\n",
       "      <th>letters[T.b]</th>\n",
       "      <th>letters[T.c]</th>\n",
       "      <th>numbers[T.2]</th>\n",
       "      <th>numbers[T.3]</th>\n",
       "      <th>values</th>\n",
       "    </tr>\n",
       "  </thead>\n",
       "  <tbody>\n",
       "    <tr>\n",
       "      <th>0</th>\n",
       "      <td>1.0</td>\n",
       "      <td>0</td>\n",
       "      <td>0</td>\n",
       "      <td>0</td>\n",
       "      <td>0</td>\n",
       "      <td>20</td>\n",
       "    </tr>\n",
       "    <tr>\n",
       "      <th>1</th>\n",
       "      <td>1.0</td>\n",
       "      <td>1</td>\n",
       "      <td>0</td>\n",
       "      <td>1</td>\n",
       "      <td>0</td>\n",
       "      <td>200</td>\n",
       "    </tr>\n",
       "    <tr>\n",
       "      <th>2</th>\n",
       "      <td>1.0</td>\n",
       "      <td>0</td>\n",
       "      <td>1</td>\n",
       "      <td>0</td>\n",
       "      <td>1</td>\n",
       "      <td>30</td>\n",
       "    </tr>\n",
       "  </tbody>\n",
       "</table>\n",
       "</div>"
      ],
      "text/plain": [
       "   Intercept  letters[T.b]  letters[T.c]  numbers[T.2]  numbers[T.3]  values\n",
       "0        1.0             0             0             0             0      20\n",
       "1        1.0             1             0             1             0     200\n",
       "2        1.0             0             1             0             1      30"
      ]
     },
     "execution_count": 80,
     "metadata": {},
     "output_type": "execute_result"
    }
   ],
   "source": [
    "from formulaic import model_matrix\n",
    "from pandas import DataFrame, Categorical\n",
    "\n",
    "df = DataFrame({\n",
    "    \"letters\": [\"a\", \"b\", \"c\"],\n",
    "    \"numbers\": Categorical([1,2,3]),\n",
    "    \"values\": [20, 200, 30],\n",
    "})\n",
    "\n",
    "model_matrix(\"letters + numbers + values\", df)"
   ]
  },
  {
   "attachments": {},
   "cell_type": "markdown",
   "metadata": {},
   "source": [
    "Here `letters` was identified as a categorical variable because of it consisted\n",
    "of strings,`numbers` was identified as categorical because of its data type, and\n",
    "`values` was treated as a vector of numerical values. The categorical data was\n",
    "encoded using the default encoding of \"Treatment\" (aka. \"Dummy\", see below for\n",
    "more details).\n",
    "\n",
    "If we wanted to force formulaic to treat a column as categorical, we can use the\n",
    "`C()` transform (just as in patsy and R). For example:"
   ]
  },
  {
   "cell_type": "code",
   "execution_count": 82,
   "metadata": {},
   "outputs": [
    {
     "data": {
      "text/html": [
       "<div>\n",
       "<style scoped>\n",
       "    .dataframe tbody tr th:only-of-type {\n",
       "        vertical-align: middle;\n",
       "    }\n",
       "\n",
       "    .dataframe tbody tr th {\n",
       "        vertical-align: top;\n",
       "    }\n",
       "\n",
       "    .dataframe thead th {\n",
       "        text-align: right;\n",
       "    }\n",
       "</style>\n",
       "<table border=\"1\" class=\"dataframe\">\n",
       "  <thead>\n",
       "    <tr style=\"text-align: right;\">\n",
       "      <th></th>\n",
       "      <th>Intercept</th>\n",
       "      <th>C(values)[T.30]</th>\n",
       "      <th>C(values)[T.200]</th>\n",
       "    </tr>\n",
       "  </thead>\n",
       "  <tbody>\n",
       "    <tr>\n",
       "      <th>0</th>\n",
       "      <td>1.0</td>\n",
       "      <td>0</td>\n",
       "      <td>0</td>\n",
       "    </tr>\n",
       "    <tr>\n",
       "      <th>1</th>\n",
       "      <td>1.0</td>\n",
       "      <td>0</td>\n",
       "      <td>1</td>\n",
       "    </tr>\n",
       "    <tr>\n",
       "      <th>2</th>\n",
       "      <td>1.0</td>\n",
       "      <td>1</td>\n",
       "      <td>0</td>\n",
       "    </tr>\n",
       "  </tbody>\n",
       "</table>\n",
       "</div>"
      ],
      "text/plain": [
       "   Intercept  C(values)[T.30]  C(values)[T.200]\n",
       "0        1.0                0                 0\n",
       "1        1.0                0                 1\n",
       "2        1.0                1                 0"
      ]
     },
     "execution_count": 82,
     "metadata": {},
     "output_type": "execute_result"
    }
   ],
   "source": [
    "model_matrix(\"C(values)\", df)"
   ]
  },
  {
   "attachments": {},
   "cell_type": "markdown",
   "metadata": {},
   "source": [
    "The `C()` transform tells Formulaic that the column should be encoded as \n",
    "categorical data, and allows you to customise how the encoding is performed. \n",
    "For example, we could use polynomial encoding (see below) and explicitly specify \n",
    "the categorical levels and their order using:"
   ]
  },
  {
   "cell_type": "code",
   "execution_count": 86,
   "metadata": {},
   "outputs": [
    {
     "name": "stderr",
     "output_type": "stream",
     "text": [
      "/home/matthew/Repositories/github/formulaic/formulaic/transforms/contrasts.py:124: DataMismatchWarning: Data has categories outside of the nominated levels (or that were not seen in original dataset): {200}. They are being  cast to nan, which will likely skew the results of your analyses.\n",
      "  warnings.warn(\n"
     ]
    },
    {
     "data": {
      "text/html": [
       "<div>\n",
       "<style scoped>\n",
       "    .dataframe tbody tr th:only-of-type {\n",
       "        vertical-align: middle;\n",
       "    }\n",
       "\n",
       "    .dataframe tbody tr th {\n",
       "        vertical-align: top;\n",
       "    }\n",
       "\n",
       "    .dataframe thead th {\n",
       "        text-align: right;\n",
       "    }\n",
       "</style>\n",
       "<table border=\"1\" class=\"dataframe\">\n",
       "  <thead>\n",
       "    <tr style=\"text-align: right;\">\n",
       "      <th></th>\n",
       "      <th>Intercept</th>\n",
       "      <th>C(values, contr.poly, levels=[10, 20, 30]).L</th>\n",
       "      <th>C(values, contr.poly, levels=[10, 20, 30]).Q</th>\n",
       "    </tr>\n",
       "  </thead>\n",
       "  <tbody>\n",
       "    <tr>\n",
       "      <th>0</th>\n",
       "      <td>1.0</td>\n",
       "      <td>0.000000</td>\n",
       "      <td>-0.816497</td>\n",
       "    </tr>\n",
       "    <tr>\n",
       "      <th>1</th>\n",
       "      <td>1.0</td>\n",
       "      <td>0.000000</td>\n",
       "      <td>0.000000</td>\n",
       "    </tr>\n",
       "    <tr>\n",
       "      <th>2</th>\n",
       "      <td>1.0</td>\n",
       "      <td>0.707107</td>\n",
       "      <td>0.408248</td>\n",
       "    </tr>\n",
       "  </tbody>\n",
       "</table>\n",
       "</div>"
      ],
      "text/plain": [
       "   Intercept  ...  C(values, contr.poly, levels=[10, 20, 30]).Q\n",
       "0        1.0  ...                                     -0.816497\n",
       "1        1.0  ...                                      0.000000\n",
       "2        1.0  ...                                      0.408248\n",
       "\n",
       "[3 rows x 3 columns]"
      ]
     },
     "execution_count": 86,
     "metadata": {},
     "output_type": "execute_result"
    }
   ],
   "source": [
    "model_matrix(\"C(values, contr.poly, levels=[10, 20, 30])\", df)"
   ]
  },
  {
   "attachments": {},
   "cell_type": "markdown",
   "metadata": {},
   "source": [
    "## How does contrast coding work?\n",
    "\n",
    "As you have seen, contrast coding transforms categorical vectors into a matrix\n",
    "of numbers that can be used during modeling. If your data has $K$ mutually\n",
    "exclusive categories, these matrices typically consist of $K-1$ columns. This\n",
    "reduction in dimensionality reflects the fact that membership of the $K$th\n",
    "category could be inferred from the lack of membership in any other category,\n",
    "and so is redundant in the presence of a global intercept. You can read more\n",
    "about this in the [full rankness](#guaranteeing-structure-full-rankness)\n",
    "discussion below.\n",
    "\n",
    "The first step toward generating numerical vectors from categorical data is to\n",
    "dummy encode it. This is simply turning a single vector of $K$ categories into\n",
    "$K$ boolean vectors, each having a $1$ only in rows that are members of the\n",
    "corresponding category. If you do not have a global intercept, you can directly\n",
    "use this dummy encoding with the full $K$ columns and contrasts are unnecessary.\n",
    "How, then, do you project the original $K$ categories into $K-1$ dimensions? You\n",
    "instead think about contrasts (or differences) between the levels.\n",
    "\n",
    "In practice, this means constructing a $K \\times (K-1)$ \"coding matrix\" that\n",
    "describes the contrasts of interest. You can then post-multiply your\n",
    "dummy-encoded columns by it. That is:\n",
    "$$ E = DC $$\n",
    "where $E \\in \\mathbb{R}^{N \\times (K-1)}$ is the contrast coded categorical data, $D \\in \\{0, 1\\}^{N \\times K}$ is the dummy encoded data, and \n",
    "$C \\in \\mathbb{R}^{K \\times (K-1)}$ is the coding matrix.\n",
    "\n",
    "The easiest way to construct the coding matrix is to start with a \"coefficient\n",
    "matrix\" $Z \\in \\mathbb{R}^{K \\times K}$ which describes the contrasts that you want the coefficients of a trained linear regression model to represent (columns representing the untransformed levels, and rows representing the transforms). For a consistently chosen set of contrasts, this matrix will be full-rank, and the inverse of this matrix will have a constant column representing the global intercept. Removing this column results in the $K \\times (K-1)$ coding matrix that should be apply to the dummy encoded data in order for the coefficients to have the desired interpretation.\n",
    "\n",
    "For example, if we wanted all of the levels to be compared to the first level, we would build a matrix $Z$ as:\n",
    "$$\n",
    "\\begin{align}\n",
    "Z =& \\left(\\begin{array}{c c c c}\n",
    "1 & 0 & 0 & 0 \\\\\n",
    "-1 & 1 & 0 & 0\\\\\n",
    "-1 & 0 & 1 & 0\\\\\n",
    "-1 & 0 & 0 & 1\n",
    "\\end{array}\\right)\\\\\n",
    "\\therefore Z^{-1} =& \\left(\\begin{array}{c c c c}\n",
    "1 & 0 & 0 & 0 \\\\\n",
    "1 & 1 & 0 & 0\\\\\n",
    "1 & 0 & 1 & 0\\\\\n",
    "1 & 0 & 0 & 1\n",
    "\\end{array}\\right)\\\\\n",
    "\\implies C =& \\left(\\begin{array}{c c c}\n",
    "0 & 0 & 0 \\\\\n",
    "1 & 0 & 0\\\\\n",
    "0 & 1 & 0\\\\\n",
    "0 & 0 & 1\n",
    "\\end{array}\\right)\n",
    "\\end{align}\n",
    "$$\n",
    "This is none other than the default \"treatment\" encoding described below, which applies one-hot encoding to the categorical data.\n",
    "\n",
    "It is important to note that while your choice of contrast coding will change the values of your coefficients (making them easier or harder to interpret depending on context), all contrast encodings ultimately result in equivalent regressions, and it is possible to restrospectively infer any other set of interesting constrasts given the regression covariance matrix. Thus, while the set of contrasts is infinite, all that matters is finding a set of contrasts that makes the regression results easier to interpret."
   ]
  },
  {
   "attachments": {},
   "cell_type": "markdown",
   "metadata": {},
   "source": [
    "## Contrast codings\n",
    "\n",
    "This section introduces the contrast encodings that are shipped as part of Formulaic. These implementations live in `formulaic.transforms.contrasts`, and are surfaced by default in formulae as an attribute of `contr` (e.g. `contr.treatment`, in order to be consistent with R). You can always [implement your own contrasts](#writing-your-own-encoding) if the need arises.\n",
    "\n",
    "If you would like to dig deeper and see the actual contrast/coefficient matrices for various parameters you can directly import these contrast implementations and play with them in a Python shell, but otherwise for brevity we will not exhaustively show these in the following documentation. For example:"
   ]
  },
  {
   "cell_type": "code",
   "execution_count": 107,
   "metadata": {},
   "outputs": [
    {
     "data": {
      "text/html": [
       "<div>\n",
       "<style scoped>\n",
       "    .dataframe tbody tr th:only-of-type {\n",
       "        vertical-align: middle;\n",
       "    }\n",
       "\n",
       "    .dataframe tbody tr th {\n",
       "        vertical-align: top;\n",
       "    }\n",
       "\n",
       "    .dataframe thead th {\n",
       "        text-align: right;\n",
       "    }\n",
       "</style>\n",
       "<table border=\"1\" class=\"dataframe\">\n",
       "  <thead>\n",
       "    <tr style=\"text-align: right;\">\n",
       "      <th></th>\n",
       "      <th>A</th>\n",
       "      <th>C</th>\n",
       "      <th>D</th>\n",
       "    </tr>\n",
       "  </thead>\n",
       "  <tbody>\n",
       "    <tr>\n",
       "      <th>A</th>\n",
       "      <td>1.0</td>\n",
       "      <td>0.0</td>\n",
       "      <td>0.0</td>\n",
       "    </tr>\n",
       "    <tr>\n",
       "      <th>B</th>\n",
       "      <td>0.0</td>\n",
       "      <td>0.0</td>\n",
       "      <td>0.0</td>\n",
       "    </tr>\n",
       "    <tr>\n",
       "      <th>C</th>\n",
       "      <td>0.0</td>\n",
       "      <td>1.0</td>\n",
       "      <td>0.0</td>\n",
       "    </tr>\n",
       "    <tr>\n",
       "      <th>D</th>\n",
       "      <td>0.0</td>\n",
       "      <td>0.0</td>\n",
       "      <td>1.0</td>\n",
       "    </tr>\n",
       "  </tbody>\n",
       "</table>\n",
       "</div>"
      ],
      "text/plain": [
       "     A    C    D\n",
       "A  1.0  0.0  0.0\n",
       "B  0.0  0.0  0.0\n",
       "C  0.0  1.0  0.0\n",
       "D  0.0  0.0  1.0"
      ]
     },
     "execution_count": 107,
     "metadata": {},
     "output_type": "execute_result"
    }
   ],
   "source": [
    "from formulaic.transforms.contrasts import C, TreatmentContrasts\n",
    "\n",
    "TreatmentContrasts(base=\"B\").get_coding_matrix([\"A\", \"B\", \"C\", \"D\"])"
   ]
  },
  {
   "cell_type": "code",
   "execution_count": 108,
   "metadata": {},
   "outputs": [
    {
     "data": {
      "text/html": [
       "<div>\n",
       "<style scoped>\n",
       "    .dataframe tbody tr th:only-of-type {\n",
       "        vertical-align: middle;\n",
       "    }\n",
       "\n",
       "    .dataframe tbody tr th {\n",
       "        vertical-align: top;\n",
       "    }\n",
       "\n",
       "    .dataframe thead th {\n",
       "        text-align: right;\n",
       "    }\n",
       "</style>\n",
       "<table border=\"1\" class=\"dataframe\">\n",
       "  <thead>\n",
       "    <tr style=\"text-align: right;\">\n",
       "      <th></th>\n",
       "      <th>A</th>\n",
       "      <th>B</th>\n",
       "      <th>C</th>\n",
       "      <th>D</th>\n",
       "    </tr>\n",
       "  </thead>\n",
       "  <tbody>\n",
       "    <tr>\n",
       "      <th>B</th>\n",
       "      <td>0.0</td>\n",
       "      <td>1.0</td>\n",
       "      <td>0.0</td>\n",
       "      <td>0.0</td>\n",
       "    </tr>\n",
       "    <tr>\n",
       "      <th>A-B</th>\n",
       "      <td>1.0</td>\n",
       "      <td>-1.0</td>\n",
       "      <td>-0.0</td>\n",
       "      <td>-0.0</td>\n",
       "    </tr>\n",
       "    <tr>\n",
       "      <th>C-B</th>\n",
       "      <td>0.0</td>\n",
       "      <td>-1.0</td>\n",
       "      <td>1.0</td>\n",
       "      <td>0.0</td>\n",
       "    </tr>\n",
       "    <tr>\n",
       "      <th>D-B</th>\n",
       "      <td>0.0</td>\n",
       "      <td>-1.0</td>\n",
       "      <td>0.0</td>\n",
       "      <td>1.0</td>\n",
       "    </tr>\n",
       "  </tbody>\n",
       "</table>\n",
       "</div>"
      ],
      "text/plain": [
       "       A    B    C    D\n",
       "B    0.0  1.0  0.0  0.0\n",
       "A-B  1.0 -1.0 -0.0 -0.0\n",
       "C-B  0.0 -1.0  1.0  0.0\n",
       "D-B  0.0 -1.0  0.0  1.0"
      ]
     },
     "execution_count": 108,
     "metadata": {},
     "output_type": "execute_result"
    }
   ],
   "source": [
    "TreatmentContrasts(base=\"B\").get_coefficient_matrix([\"A\", \"B\", \"C\", \"D\"])"
   ]
  },
  {
   "attachments": {},
   "cell_type": "markdown",
   "metadata": {},
   "source": [
    "### Treatment (aka. dummy)\n",
    "\n",
    "This contrast coding compares each level with some reference level. If not\n",
    "specified, the reference level is taken to be the first level. The reference\n",
    "level can be specified as the first argument to the\n",
    "`TreatmentContrasts`/`contr.treatment` constructor.\n",
    "\n",
    "**Example formulae:**\n",
    "\n",
    "- `~ X`: Assuming `X` is categorical, the treatment encoding will be used by default.\n",
    "- `~ C(X)`: You can also explicitly flag a feature to be encoded as categorical, whereupon the default is treatment encoding.\n",
    "- `~ C(X, contr.treatment)`: Explicitly indicate that the treatment encoding should be used.\n",
    "- `~ C(X, contr.treatment(\"x\"))`: Indicate that the reference treatment should be \"x\" instead of the first index.\n",
    "- `~ C(X, contr.treatment(base=\"x\"))`: As above."
   ]
  },
  {
   "cell_type": "code",
   "execution_count": 116,
   "metadata": {},
   "outputs": [
    {
     "data": {
      "text/html": [
       "<div>\n",
       "<style scoped>\n",
       "    .dataframe tbody tr th:only-of-type {\n",
       "        vertical-align: middle;\n",
       "    }\n",
       "\n",
       "    .dataframe tbody tr th {\n",
       "        vertical-align: top;\n",
       "    }\n",
       "\n",
       "    .dataframe thead th {\n",
       "        text-align: right;\n",
       "    }\n",
       "</style>\n",
       "<table border=\"1\" class=\"dataframe\">\n",
       "  <thead>\n",
       "    <tr style=\"text-align: right;\">\n",
       "      <th></th>\n",
       "      <th>Intercept</th>\n",
       "      <th>C(letters, contr.treatment)[T.b]</th>\n",
       "      <th>C(letters, contr.treatment)[T.c]</th>\n",
       "    </tr>\n",
       "  </thead>\n",
       "  <tbody>\n",
       "    <tr>\n",
       "      <th>0</th>\n",
       "      <td>1.0</td>\n",
       "      <td>0</td>\n",
       "      <td>0</td>\n",
       "    </tr>\n",
       "    <tr>\n",
       "      <th>1</th>\n",
       "      <td>1.0</td>\n",
       "      <td>1</td>\n",
       "      <td>0</td>\n",
       "    </tr>\n",
       "    <tr>\n",
       "      <th>2</th>\n",
       "      <td>1.0</td>\n",
       "      <td>0</td>\n",
       "      <td>1</td>\n",
       "    </tr>\n",
       "  </tbody>\n",
       "</table>\n",
       "</div>"
      ],
      "text/plain": [
       "   Intercept  ...  C(letters, contr.treatment)[T.c]\n",
       "0        1.0  ...                                 0\n",
       "1        1.0  ...                                 0\n",
       "2        1.0  ...                                 1\n",
       "\n",
       "[3 rows x 3 columns]"
      ]
     },
     "execution_count": 116,
     "metadata": {},
     "output_type": "execute_result"
    }
   ],
   "source": [
    "model_matrix(\"C(letters, contr.treatment)\", df)"
   ]
  },
  {
   "attachments": {},
   "cell_type": "markdown",
   "metadata": {},
   "source": [
    "### SAS Treatment\n",
    "\n",
    "This constrasts generated by this class are the same as\n",
    "the above, but with the reference level defaulting to the last\n",
    "level (the default in SAS).\n",
    "\n",
    "**Example formulae:**\n",
    "\n",
    "- `~ C(X, contr.SAS)`: Basic use-case.\n",
    "- `~ C(X, contr.SAS(\"x\"))`: Same as treatment encoding case above.\n",
    "- `~ C(X, contr.SAS(base=\"x\"))`: Same as treatment encoding case above."
   ]
  },
  {
   "cell_type": "code",
   "execution_count": 115,
   "metadata": {},
   "outputs": [
    {
     "data": {
      "text/html": [
       "<div>\n",
       "<style scoped>\n",
       "    .dataframe tbody tr th:only-of-type {\n",
       "        vertical-align: middle;\n",
       "    }\n",
       "\n",
       "    .dataframe tbody tr th {\n",
       "        vertical-align: top;\n",
       "    }\n",
       "\n",
       "    .dataframe thead th {\n",
       "        text-align: right;\n",
       "    }\n",
       "</style>\n",
       "<table border=\"1\" class=\"dataframe\">\n",
       "  <thead>\n",
       "    <tr style=\"text-align: right;\">\n",
       "      <th></th>\n",
       "      <th>Intercept</th>\n",
       "      <th>C(letters, contr.SAS)[T.a]</th>\n",
       "      <th>C(letters, contr.SAS)[T.b]</th>\n",
       "    </tr>\n",
       "  </thead>\n",
       "  <tbody>\n",
       "    <tr>\n",
       "      <th>0</th>\n",
       "      <td>1.0</td>\n",
       "      <td>1</td>\n",
       "      <td>0</td>\n",
       "    </tr>\n",
       "    <tr>\n",
       "      <th>1</th>\n",
       "      <td>1.0</td>\n",
       "      <td>0</td>\n",
       "      <td>1</td>\n",
       "    </tr>\n",
       "    <tr>\n",
       "      <th>2</th>\n",
       "      <td>1.0</td>\n",
       "      <td>0</td>\n",
       "      <td>0</td>\n",
       "    </tr>\n",
       "  </tbody>\n",
       "</table>\n",
       "</div>"
      ],
      "text/plain": [
       "   Intercept  C(letters, contr.SAS)[T.a]  C(letters, contr.SAS)[T.b]\n",
       "0        1.0                           1                           0\n",
       "1        1.0                           0                           1\n",
       "2        1.0                           0                           0"
      ]
     },
     "execution_count": 115,
     "metadata": {},
     "output_type": "execute_result"
    }
   ],
   "source": [
    "model_matrix(\"C(letters, contr.SAS)\", df)"
   ]
  },
  {
   "attachments": {},
   "cell_type": "markdown",
   "metadata": {},
   "source": [
    "### Sum (or Deviation)\n",
    "\n",
    "These contrasts compare each level (except the last, which is redundant) to the global average of all levels.\n",
    "\n",
    "**Example formulae:**\n",
    "\n",
    "- `~ C(X, contr.sum)`: Encode categorical data using the sum coding."
   ]
  },
  {
   "cell_type": "code",
   "execution_count": 118,
   "metadata": {},
   "outputs": [
    {
     "data": {
      "text/html": [
       "<div>\n",
       "<style scoped>\n",
       "    .dataframe tbody tr th:only-of-type {\n",
       "        vertical-align: middle;\n",
       "    }\n",
       "\n",
       "    .dataframe tbody tr th {\n",
       "        vertical-align: top;\n",
       "    }\n",
       "\n",
       "    .dataframe thead th {\n",
       "        text-align: right;\n",
       "    }\n",
       "</style>\n",
       "<table border=\"1\" class=\"dataframe\">\n",
       "  <thead>\n",
       "    <tr style=\"text-align: right;\">\n",
       "      <th></th>\n",
       "      <th>Intercept</th>\n",
       "      <th>C(letters, contr.sum)[S.a]</th>\n",
       "      <th>C(letters, contr.sum)[S.b]</th>\n",
       "    </tr>\n",
       "  </thead>\n",
       "  <tbody>\n",
       "    <tr>\n",
       "      <th>0</th>\n",
       "      <td>1.0</td>\n",
       "      <td>1.0</td>\n",
       "      <td>0.0</td>\n",
       "    </tr>\n",
       "    <tr>\n",
       "      <th>1</th>\n",
       "      <td>1.0</td>\n",
       "      <td>0.0</td>\n",
       "      <td>1.0</td>\n",
       "    </tr>\n",
       "    <tr>\n",
       "      <th>2</th>\n",
       "      <td>1.0</td>\n",
       "      <td>-1.0</td>\n",
       "      <td>-1.0</td>\n",
       "    </tr>\n",
       "  </tbody>\n",
       "</table>\n",
       "</div>"
      ],
      "text/plain": [
       "   Intercept  C(letters, contr.sum)[S.a]  C(letters, contr.sum)[S.b]\n",
       "0        1.0                         1.0                         0.0\n",
       "1        1.0                         0.0                         1.0\n",
       "2        1.0                        -1.0                        -1.0"
      ]
     },
     "execution_count": 118,
     "metadata": {},
     "output_type": "execute_result"
    }
   ],
   "source": [
    "model_matrix(\"C(letters, contr.sum)\", df)"
   ]
  },
  {
   "attachments": {},
   "cell_type": "markdown",
   "metadata": {},
   "source": [
    "### Helmert\n",
    "\n",
    "These contrasts compare each successive level to the average all previous\n",
    "levels. It has two configurable parameters: `reverse` looks at iterates over levels starting from the last one rather than the first (which is true by default), and `scale` which controls whether to scale the encoding to simplify interpretation of coefficients (results in a floating point model matrix instead of an integer one).\n",
    "\n",
    "The default parameter values are chosen to match the R implementation,\n",
    "which corresponds to a reversed and unscaled Helmert coding.\n",
    "\n",
    "**Example formulae:**\n",
    "\n",
    "- `~ C(X, contr.helmert)`: Unscaled reverse coding.\n",
    "- `~ C(X, contr.helmert(reverse=False))`: Unscaled forward coding.\n",
    "- `~ C(X, contr.helmert(scale=True))`: Scaled reverse coding.\n",
    "- `~ C(X, contr.helmert(scale=True, reverse=False))`: Scaled forward coding."
   ]
  },
  {
   "cell_type": "code",
   "execution_count": 119,
   "metadata": {},
   "outputs": [
    {
     "data": {
      "text/html": [
       "<div>\n",
       "<style scoped>\n",
       "    .dataframe tbody tr th:only-of-type {\n",
       "        vertical-align: middle;\n",
       "    }\n",
       "\n",
       "    .dataframe tbody tr th {\n",
       "        vertical-align: top;\n",
       "    }\n",
       "\n",
       "    .dataframe thead th {\n",
       "        text-align: right;\n",
       "    }\n",
       "</style>\n",
       "<table border=\"1\" class=\"dataframe\">\n",
       "  <thead>\n",
       "    <tr style=\"text-align: right;\">\n",
       "      <th></th>\n",
       "      <th>Intercept</th>\n",
       "      <th>C(letters, contr.helmert)[H.a]</th>\n",
       "      <th>C(letters, contr.helmert)[H.b]</th>\n",
       "    </tr>\n",
       "  </thead>\n",
       "  <tbody>\n",
       "    <tr>\n",
       "      <th>0</th>\n",
       "      <td>1.0</td>\n",
       "      <td>-1.0</td>\n",
       "      <td>-1.0</td>\n",
       "    </tr>\n",
       "    <tr>\n",
       "      <th>1</th>\n",
       "      <td>1.0</td>\n",
       "      <td>1.0</td>\n",
       "      <td>-1.0</td>\n",
       "    </tr>\n",
       "    <tr>\n",
       "      <th>2</th>\n",
       "      <td>1.0</td>\n",
       "      <td>0.0</td>\n",
       "      <td>2.0</td>\n",
       "    </tr>\n",
       "  </tbody>\n",
       "</table>\n",
       "</div>"
      ],
      "text/plain": [
       "   Intercept  C(letters, contr.helmert)[H.a]  C(letters, contr.helmert)[H.b]\n",
       "0        1.0                            -1.0                            -1.0\n",
       "1        1.0                             1.0                            -1.0\n",
       "2        1.0                             0.0                             2.0"
      ]
     },
     "execution_count": 119,
     "metadata": {},
     "output_type": "execute_result"
    }
   ],
   "source": [
    "model_matrix(\"C(letters, contr.helmert)\", df)"
   ]
  },
  {
   "attachments": {},
   "cell_type": "markdown",
   "metadata": {},
   "source": [
    "### Diff\n",
    "\n",
    "These contrasts take the difference of each level with the previous level. It\n",
    "has one parameter, `forward`, which indicates that the difference should be\n",
    "inverted such the difference is taken between the previous level and the current\n",
    "level. The default attribute values are chosen to match the R implemention, and\n",
    "correspond to a backward difference coding.\n",
    "\n",
    "**Example formulae:**\n",
    "\n",
    "- `~ C(X, contr.diff)`: Backward coding.\n",
    "- `~ C(X, contr.diff(forward=True))`: Forward coding."
   ]
  },
  {
   "cell_type": "code",
   "execution_count": 121,
   "metadata": {},
   "outputs": [
    {
     "data": {
      "text/html": [
       "<div>\n",
       "<style scoped>\n",
       "    .dataframe tbody tr th:only-of-type {\n",
       "        vertical-align: middle;\n",
       "    }\n",
       "\n",
       "    .dataframe tbody tr th {\n",
       "        vertical-align: top;\n",
       "    }\n",
       "\n",
       "    .dataframe thead th {\n",
       "        text-align: right;\n",
       "    }\n",
       "</style>\n",
       "<table border=\"1\" class=\"dataframe\">\n",
       "  <thead>\n",
       "    <tr style=\"text-align: right;\">\n",
       "      <th></th>\n",
       "      <th>Intercept</th>\n",
       "      <th>C(letters, contr.diff)[D.b]</th>\n",
       "      <th>C(letters, contr.diff)[D.c]</th>\n",
       "    </tr>\n",
       "  </thead>\n",
       "  <tbody>\n",
       "    <tr>\n",
       "      <th>0</th>\n",
       "      <td>1.0</td>\n",
       "      <td>-0.666667</td>\n",
       "      <td>-0.333333</td>\n",
       "    </tr>\n",
       "    <tr>\n",
       "      <th>1</th>\n",
       "      <td>1.0</td>\n",
       "      <td>0.333333</td>\n",
       "      <td>-0.333333</td>\n",
       "    </tr>\n",
       "    <tr>\n",
       "      <th>2</th>\n",
       "      <td>1.0</td>\n",
       "      <td>0.333333</td>\n",
       "      <td>0.666667</td>\n",
       "    </tr>\n",
       "  </tbody>\n",
       "</table>\n",
       "</div>"
      ],
      "text/plain": [
       "   Intercept  C(letters, contr.diff)[D.b]  C(letters, contr.diff)[D.c]\n",
       "0        1.0                    -0.666667                    -0.333333\n",
       "1        1.0                     0.333333                    -0.333333\n",
       "2        1.0                     0.333333                     0.666667"
      ]
     },
     "execution_count": 121,
     "metadata": {},
     "output_type": "execute_result"
    }
   ],
   "source": [
    "model_matrix(\"C(letters, contr.diff)\", df)"
   ]
  },
  {
   "attachments": {},
   "cell_type": "markdown",
   "metadata": {},
   "source": [
    "### Polynomial\n",
    "\n",
    "The \"contrasts\" represent a categorical variable that is assumed to equal (or known) spacing/scores, and allow us to model non-linear polynomial behaviour of the dependent variable with respect to the ordered levels by projecting the spacing onto a basis of orthogonal polynomials. It has one parameter, `scores` which indicates the spacing of the categories. It must have the same length as the number of levels. If not provided, the categories are assumed equidistant and spaced by 1.\n"
   ]
  },
  {
   "cell_type": "code",
   "execution_count": 124,
   "metadata": {},
   "outputs": [
    {
     "data": {
      "text/html": [
       "<div>\n",
       "<style scoped>\n",
       "    .dataframe tbody tr th:only-of-type {\n",
       "        vertical-align: middle;\n",
       "    }\n",
       "\n",
       "    .dataframe tbody tr th {\n",
       "        vertical-align: top;\n",
       "    }\n",
       "\n",
       "    .dataframe thead th {\n",
       "        text-align: right;\n",
       "    }\n",
       "</style>\n",
       "<table border=\"1\" class=\"dataframe\">\n",
       "  <thead>\n",
       "    <tr style=\"text-align: right;\">\n",
       "      <th></th>\n",
       "      <th>Intercept</th>\n",
       "      <th>C(letters, contr.poly).L</th>\n",
       "      <th>C(letters, contr.poly).Q</th>\n",
       "    </tr>\n",
       "  </thead>\n",
       "  <tbody>\n",
       "    <tr>\n",
       "      <th>0</th>\n",
       "      <td>1.0</td>\n",
       "      <td>-0.707107</td>\n",
       "      <td>0.408248</td>\n",
       "    </tr>\n",
       "    <tr>\n",
       "      <th>1</th>\n",
       "      <td>1.0</td>\n",
       "      <td>0.000000</td>\n",
       "      <td>-0.816497</td>\n",
       "    </tr>\n",
       "    <tr>\n",
       "      <th>2</th>\n",
       "      <td>1.0</td>\n",
       "      <td>0.707107</td>\n",
       "      <td>0.408248</td>\n",
       "    </tr>\n",
       "  </tbody>\n",
       "</table>\n",
       "</div>"
      ],
      "text/plain": [
       "   Intercept  C(letters, contr.poly).L  C(letters, contr.poly).Q\n",
       "0        1.0                 -0.707107                  0.408248\n",
       "1        1.0                  0.000000                 -0.816497\n",
       "2        1.0                  0.707107                  0.408248"
      ]
     },
     "execution_count": 124,
     "metadata": {},
     "output_type": "execute_result"
    }
   ],
   "source": [
    "model_matrix(\"C(letters, contr.poly)\", df)"
   ]
  },
  {
   "attachments": {},
   "cell_type": "markdown",
   "metadata": {},
   "source": [
    "## Aliasing categorical features\n",
    "\n",
    "The feature names of categorical variables can become quite unwieldy, as you \n",
    "may have noticed. Fortunately this is easily remedied by aliasing the variable outside of your formula (and then making it availabe via formula context). For example:"
   ]
  },
  {
   "cell_type": "code",
   "execution_count": 128,
   "metadata": {},
   "outputs": [
    {
     "data": {
      "text/html": [
       "<div>\n",
       "<style scoped>\n",
       "    .dataframe tbody tr th:only-of-type {\n",
       "        vertical-align: middle;\n",
       "    }\n",
       "\n",
       "    .dataframe tbody tr th {\n",
       "        vertical-align: top;\n",
       "    }\n",
       "\n",
       "    .dataframe thead th {\n",
       "        text-align: right;\n",
       "    }\n",
       "</style>\n",
       "<table border=\"1\" class=\"dataframe\">\n",
       "  <thead>\n",
       "    <tr style=\"text-align: right;\">\n",
       "      <th></th>\n",
       "      <th>Intercept</th>\n",
       "      <th>my_letters[T.a]</th>\n",
       "      <th>my_letters[T.c]</th>\n",
       "    </tr>\n",
       "  </thead>\n",
       "  <tbody>\n",
       "    <tr>\n",
       "      <th>0</th>\n",
       "      <td>1.0</td>\n",
       "      <td>1</td>\n",
       "      <td>0</td>\n",
       "    </tr>\n",
       "    <tr>\n",
       "      <th>1</th>\n",
       "      <td>1.0</td>\n",
       "      <td>0</td>\n",
       "      <td>0</td>\n",
       "    </tr>\n",
       "    <tr>\n",
       "      <th>2</th>\n",
       "      <td>1.0</td>\n",
       "      <td>0</td>\n",
       "      <td>1</td>\n",
       "    </tr>\n",
       "  </tbody>\n",
       "</table>\n",
       "</div>"
      ],
      "text/plain": [
       "   Intercept  my_letters[T.a]  my_letters[T.c]\n",
       "0        1.0                1                0\n",
       "1        1.0                0                0\n",
       "2        1.0                0                1"
      ]
     },
     "execution_count": 128,
     "metadata": {},
     "output_type": "execute_result"
    }
   ],
   "source": [
    "my_letters = C(df.letters, TreatmentContrasts(base=\"b\"))\n",
    "model_matrix(\"my_letters\", df)"
   ]
  },
  {
   "attachments": {},
   "cell_type": "markdown",
   "metadata": {},
   "source": [
    "## Writing your own encoding"
   ]
  },
  {
   "attachments": {},
   "cell_type": "markdown",
   "metadata": {},
   "source": [
    "## Guaranteeing Structure Full Rankness"
   ]
  },
  {
   "cell_type": "code",
   "execution_count": null,
   "metadata": {},
   "outputs": [],
   "source": [
    "   helmert = HelmertContrasts\n",
    "    poly = PolyContrasts\n",
    "    sum = SumContrasts\n",
    "    treatment = TreatmentContrasts\n",
    "    SAS = SASContrasts\n",
    "\n",
    "    # Extra\n",
    "    diff = DiffContrasts\n",
    "    custom = CustomContrasts\n",
    "\n",
    "\n",
    "Hi @laserson ,\n",
    "\n",
    "Sorry for the delay. I must have missed the notification! And thanks for reaching out.\n",
    "\n",
    "Yes, this is presently possible. You can do, for example:\n",
    "\n",
    "model_matrix(\"y ~ C(x, contr.treatment(base='ref'))\",...)\n",
    "\n",
    "You can omit base= if you like.\n",
    "\n",
    "I'll leave this issue open until the documention has been updated, and let me know if you have any other questions!\n",
    "\n",
    "Best,\n",
    "M\n",
    "\n",
    "class ContrastsRegistry(type):\n",
    "    \"\"\"\n",
    "    The contrast registry, which is exposed in formulae as \"contr\".\n",
    "    \"\"\"\n",
    "\n",
    "    # Same as R\n",
    "    helmert = HelmertContrasts\n",
    "    poly = PolyContrasts\n",
    "    sum = SumContrasts\n",
    "    treatment = TreatmentContrasts\n",
    "    SAS = SASContrasts\n",
    "\n",
    "    # Extra\n",
    "    diff = DiffContrasts\n",
    "    custom = CustomContrasts\n"
   ]
  }
 ],
 "metadata": {
  "kernelspec": {
   "display_name": "Python 3",
   "language": "python",
   "name": "python3"
  },
  "language_info": {
   "codemirror_mode": {
    "name": "ipython",
    "version": 3
   },
   "file_extension": ".py",
   "mimetype": "text/x-python",
   "name": "python",
   "nbconvert_exporter": "python",
   "pygments_lexer": "ipython3",
   "version": "3.9.15"
  },
  "orig_nbformat": 4,
  "vscode": {
   "interpreter": {
    "hash": "50719501685d4a11538a064c34e0a9cefdca3be93333d41da3ad32545f9c4436"
   }
  }
 },
 "nbformat": 4,
 "nbformat_minor": 2
}
