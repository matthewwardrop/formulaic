{
 "cells": [
  {
   "attachments": {},
   "cell_type": "markdown",
   "metadata": {},
   "source": [
    "While `Formula` instances (discussed in [How it works](../formulae/)) are the\n",
    "source of truth for abstract user intent, `ModelSpec` instances are the source\n",
    "of truth for the materialization process; and bundle a `Formula` instance with\n",
    "explicit metadata about the encoding choices that were made (or should be made)\n",
    "when a formula was (or will be) materialized. As soon as materialization begins,\n",
    "`Formula` instances are upgraded into `ModelSpec` instances, and any missing \n",
    "metadata is attached as decisions are made during the materialization process.\n",
    "\n",
    "\n",
    "Besides acting as runtime state during materialization, it serves two main\n",
    "purposes:\n",
    "\n",
    "1. It acts as a metadata store about model matrices, for example providing ready\n",
    "    access to the column names, the terms from which they derived, and so on.\n",
    "    This is especially useful when the output data type does not have native\n",
    "    ways of representing this information (e.g. numpy arrays or scipy sparse\n",
    "    matrices where even naming columns is challenging).\n",
    "2. It guarantees reproducibility. Once a `Formula` has been materialized once,\n",
    "    you can use the generated `ModelSpec` instance to repeat the process on \n",
    "    similar datasets, being confident that the encoding choices will be\n",
    "    identical. This is especially useful during out-of-sample prediction, where\n",
    "    you need to prepare the out-of-sample data in exactly the same was as the \n",
    "    training data for the predictions to be valid.\n",
    "\n",
    "In the remainder of this portion of the documentation, we will introduce how to\n",
    "leverage the metadata stored inside `ModelSpec` instances derived from\n",
    "materializations, and for more advanced programmatic use-cases, how to manually\n",
    "build a `ModelSpec`."
   ]
  },
  {
   "attachments": {},
   "cell_type": "markdown",
   "metadata": {},
   "source": [
    "## Anatomy of a `ModelSpec` instance.\n",
    "\n",
    "As noted above, a `ModelSpec` is the complete specification and record of the \n",
    "materialization process, combining all user-specified parameters with the \n",
    "runtime state of the materializer. In particular, `ModelSpec` instances have the\n",
    "following explicitly specifiable attributes:\n",
    "\n",
    "* Configuration (these attributes are typically specified by the user):\n",
    "    * **formula**: The formula for which the model matrix was (and/or will be)\n",
    "        generated.\n",
    "    * **materializer**: The materializer used (and/or to be used) to\n",
    "        materialize the formula into a matrix.\n",
    "    * **ensure_full_rank**: Whether to ensure that the generated matrix is\n",
    "        \"structurally\" full-rank (features are not included which are\n",
    "        known to violate full-rankness).\n",
    "    * **na_action**: The action to be taken if NA values are found in the\n",
    "        data. Can be on of: \"drop\" (the default), \"raise\" or \"ignore\".\n",
    "    * **output**: The desired output type (as interpreted by the materializer;\n",
    "        e.g. \"pandas\", \"sparse\", etc).\n",
    "* State (these attributes are typically only populated during materialization):\n",
    "    * **structure**: The model matrix structure resulting from materialization.\n",
    "    * **transform_state**: The state of any stateful transformations that took\n",
    "        place during factor evaluation.\n",
    "    * **encoder_state**: The state of any implicit stateful transformations that\n",
    "        took place during encoding.\n",
    "\n",
    "Often, only `formula` is explicitly specified, and the rest is inferred on the\n",
    "user's behalf.\n",
    "\n",
    "`ModelSpec` instances also have derived properties and methods that you can use\n",
    "to introspect the structure of generated model matrices. These derived methods\n",
    "assume that the `ModelSpec` has been fully populated, and thus usually only make\n",
    "sense to consider on `ModelSpec` instances that are attached to a `ModelMatrix`.\n",
    "They are:\n",
    "\n",
    "* Metadata attributes and methods:\n",
    "    * **column_names**: An ordered sequence of names associated with the columns\n",
    "        of the generated model matrix.\n",
    "    * **column_indices**: An ordered mapping from column names to the column \n",
    "        index in generated model matrices.\n",
    "    * **get_column_indices(...)**: A shorthand method for compiling indices \n",
    "        for multiple columns from `.column_indices`.\n",
    "    * **terms**: A sequence of `Term` instances that were used to generate this\n",
    "        model matrix.\n",
    "    * **term_indices**: An ordered mapping of `Term` instances to the generated\n",
    "        column indices.\n",
    "    * **get_term_indices(...)**: A shorthand method for selecting term indices\n",
    "        from `.term_indices` using formulae.\n",
    "    * **term_slices**: An ordered mapping of `Term` instances to a slice that \n",
    "        when used on the columns of the model matrix will subsample the model\n",
    "        matrix down to those corresponding to each term.\n",
    "    * **term_factors**: An ordered mapping of `Term` instances to the set of \n",
    "        factors used by that term.\n",
    "    * **term_variables**: An order mapping of `Term` instances to `Variable`\n",
    "        instances (a string subclass with addition attributes of `roles` and \n",
    "        `source`), indicating the variables used by that term.\n",
    "    * **factors**: A set of `Factor` instances used in the entire formula.\n",
    "    * **factor_terms**: A mapping from `Factor` instances to the `Term` \n",
    "        instances that used them.\n",
    "    * **factor_variables**: A mapping from `Factor` instances to `Variable` \n",
    "        instances, corresponding to the variables used by that factor.\n",
    "    * **factor_contrasts**: A mapping from `Factor` instances to\n",
    "        `ContrastsState` instances that can be used to reproduce the coding\n",
    "        matrices used during materialization.\n",
    "    * **variables**: A set of `Variable` instances describing the variables\n",
    "        used in entire formula.\n",
    "    * **variable_terms**: The reverse lookup of `term_variables`.\n",
    "    * **variable_indices**: A mapping from `Variable` instance to the indices\n",
    "        of the columns in the model matrix that variable.\n",
    "    * **get_variable_indices(...)**: A shorthand method for compiling indices \n",
    "        for multiple columns from `.variable_indices`.\n",
    "    * **variables_by_source**: A mapping from source name (typically one of \n",
    "        `\"data\"`, `\"context\"`, or `\"transforms\"`) to the variables derived from\n",
    "        that source.\n",
    "    * **get_slice(...)**: Build a slice instance that can subset a matrix down \n",
    "        to the columns associated with a `Term` instance, its string\n",
    "        representation, a column name, or pre-specified ints/slices.\n",
    "* Utility methods:\n",
    "    * **get_model_matrix(...)**: Build a model matrix using this spec. This \n",
    "        allows a new dataset to be generated using exactly the same encoding \n",
    "        process as an earlier dataset.\n",
    "    * **get_linear_constraints(...)**: Build a set of linear constraints for use\n",
    "        during constrained linear regressions.\n",
    "* Transform methods:\n",
    "    * **update(...)**: Create a copy of this `ModelSpec` instance with the \n",
    "        nominated attributes mutated.\n",
    "    * **subset(...)**: Create a copy of this `ModelSpec` instance with its\n",
    "        structure subset to correspond to the form strict subset of terms \n",
    "        indicted by a formula specification.\n",
    "\n",
    "We'll cover some of these attributes and methods in examples below, but you can\n",
    "always refer to `help(ModelSpec)` for more details."
   ]
  },
  {
   "attachments": {},
   "cell_type": "markdown",
   "metadata": {},
   "source": [
    "## Using `ModelSpec` as metadata\n",
    "\n",
    "One of the most common use-cases for `ModelSpec` instances is as metadata to \n",
    "describe a generated model matrix. This metadata can be used to programmatically\n",
    "access the appropriate features in the model matrix in order (e.g.) to assign\n",
    "sensible names to the coefficients fit during a regression."
   ]
  },
  {
   "cell_type": "code",
   "execution_count": 1,
   "metadata": {},
   "outputs": [
    {
     "data": {
      "text/html": [
       "<div>\n",
       "<style scoped>\n",
       "    .dataframe tbody tr th:only-of-type {\n",
       "        vertical-align: middle;\n",
       "    }\n",
       "\n",
       "    .dataframe tbody tr th {\n",
       "        vertical-align: top;\n",
       "    }\n",
       "\n",
       "    .dataframe thead th {\n",
       "        text-align: right;\n",
       "    }\n",
       "</style>\n",
       "<table border=\"1\" class=\"dataframe\">\n",
       "  <thead>\n",
       "    <tr style=\"text-align: right;\">\n",
       "      <th></th>\n",
       "      <th>Intercept</th>\n",
       "      <th>center(a)</th>\n",
       "      <th>b[T.B]</th>\n",
       "      <th>b[T.C]</th>\n",
       "    </tr>\n",
       "  </thead>\n",
       "  <tbody>\n",
       "    <tr>\n",
       "      <th>0</th>\n",
       "      <td>1.0</td>\n",
       "      <td>-1.0</td>\n",
       "      <td>0</td>\n",
       "      <td>0</td>\n",
       "    </tr>\n",
       "    <tr>\n",
       "      <th>1</th>\n",
       "      <td>1.0</td>\n",
       "      <td>0.0</td>\n",
       "      <td>1</td>\n",
       "      <td>0</td>\n",
       "    </tr>\n",
       "    <tr>\n",
       "      <th>2</th>\n",
       "      <td>1.0</td>\n",
       "      <td>1.0</td>\n",
       "      <td>0</td>\n",
       "      <td>1</td>\n",
       "    </tr>\n",
       "  </tbody>\n",
       "</table>\n",
       "</div>"
      ],
      "text/plain": [
       "   Intercept  center(a)  b[T.B]  b[T.C]\n",
       "0        1.0       -1.0       0       0\n",
       "1        1.0        0.0       1       0\n",
       "2        1.0        1.0       0       1"
      ]
     },
     "execution_count": 1,
     "metadata": {},
     "output_type": "execute_result"
    }
   ],
   "source": [
    "# Let's get ourselves a simple `ModelMatrix` instance to play with.\n",
    "from pandas import DataFrame\n",
    "\n",
    "from formulaic import model_matrix\n",
    "\n",
    "mm = model_matrix(\"center(a) + b\", DataFrame({\"a\": [1, 2, 3], \"b\": [\"A\", \"B\", \"C\"]}))\n",
    "mm"
   ]
  },
  {
   "cell_type": "code",
   "execution_count": 2,
   "metadata": {},
   "outputs": [
    {
     "data": {
      "text/plain": [
       "ModelSpec(formula=1 + center(a) + b, materializer='pandas', materializer_params={}, ensure_full_rank=True, na_action=<NAAction.DROP: 'drop'>, output='pandas', cluster_by=<ClusterBy.NONE: 'none'>, structure=[EncodedTermStructure(term=1, scoped_terms=[1], columns=['Intercept']), EncodedTermStructure(term=center(a), scoped_terms=[center(a)], columns=['center(a)']), EncodedTermStructure(term=b, scoped_terms=[b-], columns=['b[T.B]', 'b[T.C]'])], transform_state={'center(a)': {'ddof': 1, 'center': np.float64(2.0), 'scale': None}}, encoder_state={'center(a)': (<Kind.NUMERICAL: 'numerical'>, {}), 'b': (<Kind.CATEGORICAL: 'categorical'>, {'categories': ['A', 'B', 'C'], 'contrasts': ContrastsState(contrasts=TreatmentContrasts(base=UNSET), levels=['A', 'B', 'C'])})})"
      ]
     },
     "execution_count": 2,
     "metadata": {},
     "output_type": "execute_result"
    }
   ],
   "source": [
    "# And extract the model spec from it\n",
    "ms = mm.model_spec\n",
    "ms"
   ]
  },
  {
   "cell_type": "code",
   "execution_count": 3,
   "metadata": {},
   "outputs": [
    {
     "data": {
      "text/plain": [
       "{'column_names': ('Intercept', 'center(a)', 'b[T.B]', 'b[T.C]'),\n",
       " 'column_indices': {'Intercept': 0, 'center(a)': 1, 'b[T.B]': 2, 'b[T.C]': 3},\n",
       " 'terms': [1, center(a), b],\n",
       " 'term_indices': {1: [0], center(a): [1], b: [2, 3]},\n",
       " 'term_slices': {1: slice(0, 1, None),\n",
       "  center(a): slice(1, 2, None),\n",
       "  b: slice(2, 4, None)},\n",
       " 'term_factors': {1: {1}, center(a): {center(a)}, b: {b}},\n",
       " 'term_variables': {1: set(), center(a): {'a', 'center'}, b: {'b'}},\n",
       " 'factors': {1, b, center(a)},\n",
       " 'factor_terms': {1: {1}, center(a): {center(a)}, b: {b}},\n",
       " 'factor_variables': {b: {'b'}, 1: set(), center(a): {'a', 'center'}},\n",
       " 'factor_contrasts': {b: ContrastsState(contrasts=TreatmentContrasts(base=UNSET), levels=['A', 'B', 'C'])},\n",
       " 'variables': {'a', 'b', 'center'},\n",
       " 'variable_terms': {'center': {center(a)}, 'a': {center(a)}, 'b': {b}},\n",
       " 'variable_indices': {'center': [1], 'a': [1], 'b': [2, 3]},\n",
       " 'variables_by_source': {'transforms': {'center'}, 'data': {'a', 'b'}}}"
      ]
     },
     "execution_count": 3,
     "metadata": {},
     "output_type": "execute_result"
    }
   ],
   "source": [
    "# We can now interrogate it for various column, factor, term, and variable related metadata\n",
    "{\n",
    "    \"column_names\": ms.column_names,\n",
    "    \"column_indices\": ms.column_indices,\n",
    "    \"terms\": ms.terms,\n",
    "    \"term_indices\": ms.term_indices,\n",
    "    \"term_slices\": ms.term_slices,\n",
    "    \"term_factors\": ms.term_factors,\n",
    "    \"term_variables\": ms.term_variables,\n",
    "    \"factors\": ms.factors,\n",
    "    \"factor_terms\": ms.factor_terms,\n",
    "    \"factor_variables\": ms.factor_variables,\n",
    "    \"factor_contrasts\": ms.factor_contrasts,\n",
    "    \"variables\": ms.variables,\n",
    "    \"variable_terms\": ms.variable_terms,\n",
    "    \"variable_indices\": ms.variable_indices,\n",
    "    \"variables_by_source\": ms.variables_by_source,\n",
    "}"
   ]
  },
  {
   "cell_type": "code",
   "execution_count": 4,
   "metadata": {},
   "outputs": [
    {
     "data": {
      "text/html": [
       "<div>\n",
       "<style scoped>\n",
       "    .dataframe tbody tr th:only-of-type {\n",
       "        vertical-align: middle;\n",
       "    }\n",
       "\n",
       "    .dataframe tbody tr th {\n",
       "        vertical-align: top;\n",
       "    }\n",
       "\n",
       "    .dataframe thead th {\n",
       "        text-align: right;\n",
       "    }\n",
       "</style>\n",
       "<table border=\"1\" class=\"dataframe\">\n",
       "  <thead>\n",
       "    <tr style=\"text-align: right;\">\n",
       "      <th></th>\n",
       "      <th>b[T.B]</th>\n",
       "      <th>b[T.C]</th>\n",
       "    </tr>\n",
       "  </thead>\n",
       "  <tbody>\n",
       "    <tr>\n",
       "      <th>0</th>\n",
       "      <td>0</td>\n",
       "      <td>0</td>\n",
       "    </tr>\n",
       "    <tr>\n",
       "      <th>1</th>\n",
       "      <td>1</td>\n",
       "      <td>0</td>\n",
       "    </tr>\n",
       "    <tr>\n",
       "      <th>2</th>\n",
       "      <td>0</td>\n",
       "      <td>1</td>\n",
       "    </tr>\n",
       "  </tbody>\n",
       "</table>\n",
       "</div>"
      ],
      "text/plain": [
       "   b[T.B]  b[T.C]\n",
       "0       0       0\n",
       "1       1       0\n",
       "2       0       1"
      ]
     },
     "execution_count": 4,
     "metadata": {},
     "output_type": "execute_result"
    }
   ],
   "source": [
    "# And use it to select out various parts of the model matrix; here the columns\n",
    "# produced by the `b` term.\n",
    "mm.iloc[:, ms.term_indices[\"b\"]]"
   ]
  },
  {
   "attachments": {},
   "cell_type": "markdown",
   "metadata": {},
   "source": [
    "Some of this metadata may seem redundant at first, but this kind of metadata is\n",
    "essential when the generated model matrix does not natively support indexing by\n",
    "names; for example:"
   ]
  },
  {
   "cell_type": "code",
   "execution_count": 5,
   "metadata": {},
   "outputs": [
    {
     "data": {
      "text/plain": [
       "array([[ 1., -1.,  0.,  0.],\n",
       "       [ 1.,  0.,  1.,  0.],\n",
       "       [ 1.,  1.,  0.,  1.]])"
      ]
     },
     "execution_count": 5,
     "metadata": {},
     "output_type": "execute_result"
    }
   ],
   "source": [
    "mm_numpy = model_matrix(\n",
    "    \"center(a) + b\", DataFrame({\"a\": [1, 2, 3], \"b\": [\"A\", \"B\", \"C\"]}), output=\"numpy\"\n",
    ")\n",
    "mm_numpy"
   ]
  },
  {
   "cell_type": "code",
   "execution_count": 6,
   "metadata": {},
   "outputs": [
    {
     "data": {
      "text/plain": [
       "array([[0., 0.],\n",
       "       [1., 0.],\n",
       "       [0., 1.]])"
      ]
     },
     "execution_count": 6,
     "metadata": {},
     "output_type": "execute_result"
    }
   ],
   "source": [
    "ms_numpy = mm_numpy.model_spec\n",
    "mm_numpy[:, ms_numpy.term_indices[\"b\"]]"
   ]
  },
  {
   "attachments": {},
   "cell_type": "markdown",
   "metadata": {},
   "source": [
    "## Reusing model specifications\n",
    "\n",
    "Another common use-case for `ModelSpec` instances is replaying the same\n",
    "materialization process used to prepare a training dataset on a new dataset.\n",
    "Since the `ModelSpec` instance stores all relevant choices made during\n",
    "materialization achieving this is a simple as using using the `ModelSpec` to\n",
    "generate the new model matrix.\n",
    "\n",
    "By way of example, recall from above section that we used the formula \n",
    "\n",
    "    center(a) + b\n",
    "\n",
    "where `a` was a numerical vector, and `b` was a categorical vector. When \n",
    "generating model matrices for subsequent datasets it is very important to use\n",
    "the same centering used during the initial model matrix generation, and not just\n",
    "center the incoming data again. Likewise, `b` should be aware of which\n",
    "categories were present during the initial training, and ensure that the same\n",
    "columns are created during subsequent materializations (otherwise the model \n",
    "matrices will not be of the same form, and cannot be used for predictions/etc).\n",
    "These kinds of transforms that require memory are called \"stateful transforms\"\n",
    "in Formulaic, and are described in more detail in the [Transforms](../transforms/)\n",
    "documentation.\n",
    "\n",
    "We can see this in action below:"
   ]
  },
  {
   "cell_type": "code",
   "execution_count": 7,
   "metadata": {},
   "outputs": [
    {
     "name": "stderr",
     "output_type": "stream",
     "text": [
      "/home/matthew/Repositories/github/formulaic/formulaic/transforms/contrasts.py:169: DataMismatchWarning: Data has categories outside of the nominated levels (or that were not seen in original dataset): {'D'}. They are being  cast to nan, which will likely skew the results of your analyses.\n",
      "  warnings.warn(\n"
     ]
    },
    {
     "data": {
      "text/html": [
       "<div>\n",
       "<style scoped>\n",
       "    .dataframe tbody tr th:only-of-type {\n",
       "        vertical-align: middle;\n",
       "    }\n",
       "\n",
       "    .dataframe tbody tr th {\n",
       "        vertical-align: top;\n",
       "    }\n",
       "\n",
       "    .dataframe thead th {\n",
       "        text-align: right;\n",
       "    }\n",
       "</style>\n",
       "<table border=\"1\" class=\"dataframe\">\n",
       "  <thead>\n",
       "    <tr style=\"text-align: right;\">\n",
       "      <th></th>\n",
       "      <th>Intercept</th>\n",
       "      <th>center(a)</th>\n",
       "      <th>b[T.B]</th>\n",
       "      <th>b[T.C]</th>\n",
       "    </tr>\n",
       "  </thead>\n",
       "  <tbody>\n",
       "    <tr>\n",
       "      <th>0</th>\n",
       "      <td>1.0</td>\n",
       "      <td>2.0</td>\n",
       "      <td>0</td>\n",
       "      <td>0</td>\n",
       "    </tr>\n",
       "    <tr>\n",
       "      <th>1</th>\n",
       "      <td>1.0</td>\n",
       "      <td>3.0</td>\n",
       "      <td>1</td>\n",
       "      <td>0</td>\n",
       "    </tr>\n",
       "    <tr>\n",
       "      <th>2</th>\n",
       "      <td>1.0</td>\n",
       "      <td>4.0</td>\n",
       "      <td>0</td>\n",
       "      <td>0</td>\n",
       "    </tr>\n",
       "  </tbody>\n",
       "</table>\n",
       "</div>"
      ],
      "text/plain": [
       "   Intercept  center(a)  b[T.B]  b[T.C]\n",
       "0        1.0        2.0       0       0\n",
       "1        1.0        3.0       1       0\n",
       "2        1.0        4.0       0       0"
      ]
     },
     "execution_count": 7,
     "metadata": {},
     "output_type": "execute_result"
    }
   ],
   "source": [
    "ms.get_model_matrix(DataFrame({\"a\": [4, 5, 6], \"b\": [\"A\", \"B\", \"D\"]}))"
   ]
  },
  {
   "attachments": {},
   "cell_type": "markdown",
   "metadata": {},
   "source": [
    "Notice that when the assumptions of the stateful transforms are violated \n",
    "warnings and/or exceptions will be generated.\n",
    "\n",
    "You can also just pass the `ModelSpec` directly to `model_matrix`, for example:"
   ]
  },
  {
   "cell_type": "code",
   "execution_count": 8,
   "metadata": {},
   "outputs": [
    {
     "data": {
      "text/html": [
       "<div>\n",
       "<style scoped>\n",
       "    .dataframe tbody tr th:only-of-type {\n",
       "        vertical-align: middle;\n",
       "    }\n",
       "\n",
       "    .dataframe tbody tr th {\n",
       "        vertical-align: top;\n",
       "    }\n",
       "\n",
       "    .dataframe thead th {\n",
       "        text-align: right;\n",
       "    }\n",
       "</style>\n",
       "<table border=\"1\" class=\"dataframe\">\n",
       "  <thead>\n",
       "    <tr style=\"text-align: right;\">\n",
       "      <th></th>\n",
       "      <th>Intercept</th>\n",
       "      <th>center(a)</th>\n",
       "      <th>b[T.B]</th>\n",
       "      <th>b[T.C]</th>\n",
       "    </tr>\n",
       "  </thead>\n",
       "  <tbody>\n",
       "    <tr>\n",
       "      <th>0</th>\n",
       "      <td>1.0</td>\n",
       "      <td>2.0</td>\n",
       "      <td>0</td>\n",
       "      <td>0</td>\n",
       "    </tr>\n",
       "    <tr>\n",
       "      <th>1</th>\n",
       "      <td>1.0</td>\n",
       "      <td>3.0</td>\n",
       "      <td>0</td>\n",
       "      <td>0</td>\n",
       "    </tr>\n",
       "    <tr>\n",
       "      <th>2</th>\n",
       "      <td>1.0</td>\n",
       "      <td>4.0</td>\n",
       "      <td>0</td>\n",
       "      <td>0</td>\n",
       "    </tr>\n",
       "  </tbody>\n",
       "</table>\n",
       "</div>"
      ],
      "text/plain": [
       "   Intercept  center(a)  b[T.B]  b[T.C]\n",
       "0        1.0        2.0       0       0\n",
       "1        1.0        3.0       0       0\n",
       "2        1.0        4.0       0       0"
      ]
     },
     "execution_count": 8,
     "metadata": {},
     "output_type": "execute_result"
    }
   ],
   "source": [
    "model_matrix(ms, data=DataFrame({\"a\": [4, 5, 6], \"b\": [\"A\", \"A\", \"A\"]}))"
   ]
  },
  {
   "attachments": {},
   "cell_type": "markdown",
   "metadata": {},
   "source": [
    "## Directly constructing `ModelSpec` instances\n",
    "\n",
    "It is possible to directly construct Model Matrices, and to prepopulate them\n",
    "with various choices (e.g. output types, materializer, etc). You could even, in\n",
    "principle, populate them with state information (but this is **not**\n",
    "recommended; it is easy to make mistakes here, and is likely better to encode\n",
    "these choices into the formula itself where possible). For example:"
   ]
  },
  {
   "cell_type": "code",
   "execution_count": 9,
   "metadata": {},
   "outputs": [
    {
     "data": {
      "text/plain": [
       "ModelSpec(formula=1 + a + b + c, materializer=None, materializer_params=None, ensure_full_rank=False, na_action=<NAAction.DROP: 'drop'>, output='numpy', cluster_by=<ClusterBy.NONE: 'none'>, structure=None, transform_state={}, encoder_state={})"
      ]
     },
     "execution_count": 9,
     "metadata": {},
     "output_type": "execute_result"
    }
   ],
   "source": [
    "from formulaic import ModelSpec\n",
    "\n",
    "ms = ModelSpec(\"a+b+c\", output=\"numpy\", ensure_full_rank=False)\n",
    "ms"
   ]
  },
  {
   "cell_type": "code",
   "execution_count": 10,
   "metadata": {},
   "outputs": [
    {
     "data": {
      "text/plain": [
       "array([[1., 1., 4., 7.],\n",
       "       [1., 2., 5., 8.],\n",
       "       [1., 3., 6., 9.]])"
      ]
     },
     "execution_count": 10,
     "metadata": {},
     "output_type": "execute_result"
    }
   ],
   "source": [
    "import pandas\n",
    "\n",
    "mm = ms.get_model_matrix(\n",
    "    pandas.DataFrame({\"a\": [1, 2, 3], \"b\": [4, 5, 6], \"c\": [7, 8, 9]})\n",
    ")\n",
    "mm"
   ]
  },
  {
   "cell_type": "code",
   "execution_count": 11,
   "metadata": {},
   "outputs": [
    {
     "data": {
      "text/plain": [
       "ModelSpec(formula=1 + a + b + c, materializer='pandas', materializer_params={}, ensure_full_rank=False, na_action=<NAAction.DROP: 'drop'>, output='numpy', cluster_by=<ClusterBy.NONE: 'none'>, structure=[EncodedTermStructure(term=1, scoped_terms=[1], columns=['Intercept']), EncodedTermStructure(term=a, scoped_terms=[a], columns=['a']), EncodedTermStructure(term=b, scoped_terms=[b], columns=['b']), EncodedTermStructure(term=c, scoped_terms=[c], columns=['c'])], transform_state={}, encoder_state={'a': (<Kind.NUMERICAL: 'numerical'>, {}), 'b': (<Kind.NUMERICAL: 'numerical'>, {}), 'c': (<Kind.NUMERICAL: 'numerical'>, {})})"
      ]
     },
     "execution_count": 11,
     "metadata": {},
     "output_type": "execute_result"
    }
   ],
   "source": [
    "mm.model_spec"
   ]
  },
  {
   "attachments": {},
   "cell_type": "markdown",
   "metadata": {},
   "source": [
    "Notice that any missing fields not provided by the user are imputed\n",
    "automatically."
   ]
  },
  {
   "attachments": {},
   "cell_type": "markdown",
   "metadata": {},
   "source": [
    "## Structured `ModelSpecs`\n",
    "\n",
    "As discussed in [How it works](../formulae/), formulae can be arbitrarily\n",
    "structured, resulting in a similarly structured set of model matrices.\n",
    "`ModelSpec` instances can also be arranged into a structured collection using\n",
    "`ModelSpecs`, allowing different choices to be made at different levels of the\n",
    "structure. You can either create these structures yourself, or inherit the\n",
    "structure from a formula. For example:"
   ]
  },
  {
   "cell_type": "code",
   "execution_count": 12,
   "metadata": {},
   "outputs": [
    {
     "data": {
      "text/plain": [
       "root:\n",
       "    ModelSpec(formula=1 + a, materializer=None, materializer_params=None, ensure_full_rank=True, na_action=<NAAction.DROP: 'drop'>, output=None, cluster_by=<ClusterBy.NONE: 'none'>, structure=None, transform_state={}, encoder_state={})\n",
       ".substructure:\n",
       "    ModelSpec(formula=1 + b, materializer=None, materializer_params=None, ensure_full_rank=True, na_action=<NAAction.DROP: 'drop'>, output=None, cluster_by=<ClusterBy.NONE: 'none'>, structure=None, transform_state={}, encoder_state={})\n",
       ".another_substructure:\n",
       "    ModelSpec(formula=1 + c, materializer=None, materializer_params=None, ensure_full_rank=True, na_action=<NAAction.DROP: 'drop'>, output=None, cluster_by=<ClusterBy.NONE: 'none'>, structure=None, transform_state={}, encoder_state={})"
      ]
     },
     "execution_count": 12,
     "metadata": {},
     "output_type": "execute_result"
    }
   ],
   "source": [
    "from formulaic import Formula, ModelSpecs\n",
    "\n",
    "ModelSpecs(\n",
    "    ModelSpec(\"a\"), substructure=ModelSpec(\"b\"), another_substructure=ModelSpec(\"c\")\n",
    ")"
   ]
  },
  {
   "cell_type": "code",
   "execution_count": 13,
   "metadata": {},
   "outputs": [
    {
     "data": {
      "text/plain": [
       ".lhs:\n",
       "    ModelSpec(formula=y, materializer=None, materializer_params=None, ensure_full_rank=True, na_action=<NAAction.DROP: 'drop'>, output=None, cluster_by=<ClusterBy.NONE: 'none'>, structure=None, transform_state={}, encoder_state={})\n",
       ".rhs:\n",
       "    ModelSpec(formula=a + b, materializer=None, materializer_params=None, ensure_full_rank=True, na_action=<NAAction.DROP: 'drop'>, output=None, cluster_by=<ClusterBy.NONE: 'none'>, structure=None, transform_state={}, encoder_state={})"
      ]
     },
     "execution_count": 13,
     "metadata": {},
     "output_type": "execute_result"
    }
   ],
   "source": [
    "ModelSpec.from_spec(Formula(lhs=\"y\", rhs=\"a + b\"))"
   ]
  },
  {
   "cell_type": "markdown",
   "metadata": {},
   "source": [
    "Some operations, such as `ModelSpec.subset(...)` are also accessible in a mapped way (e.g. via `ModelSpecs.subset(...)`). You can find documentation for the complete set of available methods using `help(ModelSpecs)`."
   ]
  },
  {
   "attachments": {},
   "cell_type": "markdown",
   "metadata": {},
   "source": [
    "## Serialization"
   ]
  },
  {
   "attachments": {},
   "cell_type": "markdown",
   "metadata": {},
   "source": [
    "`ModelSpec` and `ModelSpecs` instances have been designed to support\n",
    "serialization via the standard pickling process offered by Python. This allows\n",
    "model specs to be persisted into storage and reloaded at a later time, or used\n",
    "in multiprocessing scenarios.\n",
    "\n",
    "<div class=\"admonition warning\">\n",
    "    <p>\n",
    "        Serialized model specs are <b>not</b> guaranteed to work between \n",
    "        different versions of <em>formulaic</em>. While things will work in the\n",
    "        vast majority of cases, the internal state of transforms is free to change\n",
    "        from version to version, and may invalidate previously serialized model\n",
    "        specs. Efforts will be made to reduce the likelihood of this, and when\n",
    "        it happens it should be indicated in the changelogs.\n",
    "    </p>\n",
    "</div>"
   ]
  }
 ],
 "metadata": {
  "kernelspec": {
   "display_name": "venv",
   "language": "python",
   "name": "python3"
  },
  "language_info": {
   "codemirror_mode": {
    "name": "ipython",
    "version": 3
   },
   "file_extension": ".py",
   "mimetype": "text/x-python",
   "name": "python",
   "nbconvert_exporter": "python",
   "pygments_lexer": "ipython3",
   "version": "3.12.5"
  },
  "orig_nbformat": 4
 },
 "nbformat": 4,
 "nbformat_minor": 2
}
